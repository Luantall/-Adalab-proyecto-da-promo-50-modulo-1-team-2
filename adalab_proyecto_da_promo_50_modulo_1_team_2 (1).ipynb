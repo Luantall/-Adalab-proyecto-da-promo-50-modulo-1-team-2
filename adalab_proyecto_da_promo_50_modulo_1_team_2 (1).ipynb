{
 "cells": [
  {
   "cell_type": "markdown",
   "metadata": {},
   "source": [
    " # **Preguntas y Respuestas de Geografía**\n",
    "\n",
    "- Reglas del Juego:\n",
    "\n",
    "    - El juego consiste en hacer preguntas de geografía y que el jugador adivine la respuesta correcta.\n",
    "\n",
    "    - Cada pregunta tiene una respuesta única y correcta.\n",
    "\n",
    "    - El jugador tiene un número limitado de intentos para responder correctamente a cada pregunta.\n",
    "\n",
    "    - El juego sigue hasta que el jugador responda incorrectamente 3 de veces o haya respondido 5 preguntas correctamente.\n",
    "   \n",
    "    - Hay que tener en cuenta que el juego distingue la acentuación a la hora de responder.\n",
    "\n",
    "\n"
   ]
  },
  {
   "cell_type": "markdown",
   "metadata": {},
   "source": [
    "___________________________________________________________________"
   ]
  },
  {
   "cell_type": "markdown",
   "metadata": {},
   "source": [
    "# Respuesta única"
   ]
  },
  {
   "cell_type": "code",
   "execution_count": 26,
   "metadata": {},
   "outputs": [],
   "source": [
    "\n",
    "pregunta_respuestas={\"¿Cuál es el océano más grande del mundo?\": \"Océano Pacífico\", \"¿Cuál es la capital de Francia?\": \"París\", \"¿Cuál es el país con la mayor población del mundo?\": \"China\", \"¿Qué río es el más largo del mundo?\": \"Río Nilo\", \"¿En qué continente se encuentra Brasil?\": \"América del Sur\", \"¿Cuántos continentes hay en el mundo?\": \"7\", \"¿Cuál es el desierto más seco del mundo?\": \"Desierto de Atacama\", \"¿Cuál es el punto más alto de la Tierra?\": \"Monte Everest\", \"¿Cuál es la capital de Japón?\": \"Tokio\", \"¿Qué país tiene la forma de una bota?\": \"Italia\"}\n"
   ]
  },
  {
   "cell_type": "code",
   "execution_count": 61,
   "metadata": {},
   "outputs": [],
   "source": [
    "pregunta_respuestas\n",
    "import random\n",
    "from random import choices\n",
    "import time\n",
    "\n",
    "def respuesta_unica():\n",
    "    incorrectas = 0\n",
    "    correctas = 0\n",
    "    lista_preguntas=list(pregunta_respuestas.keys())\n",
    "    print('Has elegido la opción de respuesta única, comencemos el juego...\\U0001F680')\n",
    "    while lista_preguntas:\n",
    "        \n",
    "        pregunta = random.choice(lista_preguntas)\n",
    "        lista_preguntas.remove(pregunta)   \n",
    "        print(pregunta)\n",
    "        time.sleep(2)\n",
    "\n",
    "        respuesta_usuario = input('Escribe tu respuesta:  ').strip().lower()\n",
    "        respuesta_correcta = pregunta_respuestas[pregunta].strip().lower()\n",
    "\n",
    "        if respuesta_usuario == respuesta_correcta:\n",
    "            print('Correcto\\U0001F44F')\n",
    "            correctas += 1\n",
    "            if correctas == 5:\n",
    "                print('Has ganado!\\U0001F973')\n",
    "                break  \n",
    "        else:\n",
    "            print(f'Fallaste \\U0001F605 la respuesta correcta es {respuesta_correcta}')\n",
    "            incorrectas += 1\n",
    "            if incorrectas == 3:\n",
    "                print('Game over\\U0001F61E')\n",
    "                break\n",
    "        "
   ]
  },
  {
   "cell_type": "code",
   "execution_count": 28,
   "metadata": {},
   "outputs": [
    {
     "name": "stdout",
     "output_type": "stream",
     "text": [
      "Has elegido la opción de respuesta única, comencemos el juego...\n",
      "¿Cuál es el punto más alto de la Tierra?\n",
      "Fallaste 😅 la respuesta correcta es monte everest\n",
      "¿Cuál es la capital de Francia?\n",
      "Fallaste 😅 la respuesta correcta es parís\n",
      "¿Qué río es el más largo del mundo?\n",
      "Fallaste 😅 la respuesta correcta es río nilo\n",
      "Game over\n"
     ]
    }
   ],
   "source": [
    "respuesta_unica()"
   ]
  },
  {
   "cell_type": "markdown",
   "metadata": {},
   "source": [
    "___________________________________________________________________\n"
   ]
  },
  {
   "cell_type": "markdown",
   "metadata": {},
   "source": [
    "# Verdadero y falso"
   ]
  },
  {
   "cell_type": "code",
   "execution_count": 58,
   "metadata": {},
   "outputs": [],
   "source": [
    "preguntas_verdadero_falso = {\"El desierto de Sahara es el desierto más grande del mundo.\": True, \"La selva amazónica está ubicada en África.\": False, \"Brasil tiene la mayor cantidad de países fronterizos en América del Sur.\": True, \"El Monte Everest está ubicado en América del Norte.\": False, \"El río Amazonas es el más largo del mundo.\": False, \"Australia es un continente y un país.\": True, \"La Cordillera de los Andes atraviesa varios países en Sudamérica.\": True, \"El Polo Norte está ubicado en el océano Atlántico.\": False, \"El río Nilo fluye hacia el sur.\": False, \"Rusia tiene la mayor superficie territorial del mundo.\": True}"
   ]
  },
  {
   "cell_type": "code",
   "execution_count": 60,
   "metadata": {},
   "outputs": [],
   "source": [
    "\n",
    "import random\n",
    "import time\n",
    "def verdadero_falso():\n",
    "    incorrectas = 0\n",
    "    correctas = 0\n",
    "    lista_preguntas = list(preguntas_verdadero_falso.keys())\n",
    "    print('Has elegido la opción de verdadero o falso, comencemos el juego...\\U0001F680')\n",
    "    while True:\n",
    "        pregunta = random.choice(lista_preguntas)\n",
    "        lista_preguntas.remove(pregunta)\n",
    "        print(pregunta)\n",
    "        time.sleep(2)        \n",
    "        respuesta_usuario = input(\"Escribe 'verdadero' o 'falso':\").strip().lower()\n",
    "        time.sleep(1)\n",
    "        if respuesta_usuario == 'verdadero':\n",
    "            respuesta_usuario = True\n",
    "        elif respuesta_usuario == 'falso':\n",
    "            respuesta_usuario = False\n",
    "        else:\n",
    "            print('Respuesta no válida. Por favor, escribe \"verdadero\" o \"falso\".')\n",
    "            continue\n",
    "        if preguntas_verdadero_falso[pregunta] == respuesta_usuario:\n",
    "            print('Correcto\\U0001F44F')\n",
    "            correctas += 1\n",
    "            if correctas == 5:\n",
    "                print('¡Has ganado!\\U0001F973')\n",
    "                break\n",
    "        else:\n",
    "            print('Incorrecto\\U0001F605')\n",
    "            incorrectas += 1\n",
    "            if incorrectas == 3:\n",
    "                print('Game over\\U0001F61E')\n",
    "                break\n",
    "        "
   ]
  },
  {
   "cell_type": "code",
   "execution_count": 50,
   "metadata": {},
   "outputs": [
    {
     "name": "stdout",
     "output_type": "stream",
     "text": [
      "Has elegido la opción de verdadero o falso, comencemos el juego...\n",
      "Rusia tiene la mayor superficie territorial del mundo.\n",
      "Correcto👏\n",
      "El río Nilo fluye hacia el sur.\n",
      "Correcto👏\n",
      "El desierto de Sahara es el desierto más grande del mundo.\n",
      "incorrecto\n",
      "La selva amazónica está ubicada en África.\n",
      "Correcto👏\n",
      "El río Amazonas es el más largo del mundo.\n",
      "Correcto👏\n",
      "La Cordillera de los Andes atraviesa varios países en Sudamérica.\n",
      "Correcto👏\n",
      "¡Has ganado!🥳\n"
     ]
    }
   ],
   "source": [
    "verdadero_falso()"
   ]
  },
  {
   "cell_type": "markdown",
   "metadata": {},
   "source": [
    "_______________________________________________"
   ]
  },
  {
   "cell_type": "markdown",
   "metadata": {},
   "source": [
    "# Opciones múltiples"
   ]
  },
  {
   "cell_type": "code",
   "execution_count": 29,
   "metadata": {},
   "outputs": [],
   "source": [
    "preguntas_opciones = {\n",
    "    \"¿Cuál es el océano más grande del mundo?\": [\"Océano Atlántico\", \"Océano Índico\", \"Océano Pacífico\", \"Océano Ártico\"],\n",
    "    \"¿Cuál es la capital de Francia?\": [\"Madrid\", \"París\", \"Berlín\", \"Roma\"],\n",
    "    \"¿Cuál es el país con la mayor población del mundo?\": [\"Estados Unidos\", \"India\", \"China\", \"Rusia\"],\n",
    "    \"¿Qué río es el más largo del mundo?\": [\"Río Amazonas\", \"Río Nilo\", \"Río Yangtsé\", \"Río Misisipi\"],\n",
    "    \"¿Cuál es el continente más grande del mundo?\": [\"África\", \"América del Norte\", \"Asia\", \"Antártida\"],\n",
    "    \"¿Cuál es el desierto más grande del mundo?\": [\"Desierto del Sahara\", \"Desierto de Arabia\", \"Desierto de Gobi\", \"Antártida\"],\n",
    "    \"¿Cuál es el país más pequeño del mundo?\": [\"San Marino\", \"Liechtenstein\", \"Mónaco\", \"Ciudad del Vaticano\"],\n",
    "    \"¿Cuál es el lago más profundo del mundo?\": [\"Lago Baikal\", \"Lago Tanganica\", \"Lago Superior\", \"Lago Victoria\"],\n",
    "    \"¿En qué continente se encuentra el Monte Kilimanjaro?\": [\"Asia\", \"África\", \"América del Sur\", \"Europa\"],\n",
    "    \"¿Cuál es la ciudad más poblada del mundo?\": [\"Tokio\", \"Delhi\", \"Shanghái\", \"São Paulo\"]\n",
    "}\n",
    "\n",
    "\n",
    "respuestas_correctas = {\n",
    "    \"¿Cuál es el océano más grande del mundo?\": \"Océano Pacífico\",\n",
    "    \"¿Cuál es la capital de Francia?\": \"París\",\n",
    "    \"¿Cuál es el país con la mayor población del mundo?\": \"China\",\n",
    "    \"¿Qué río es el más largo del mundo?\": \"Río Nilo\",\n",
    "    \"¿Cuál es el continente más grande del mundo?\": \"Asia\",\n",
    "    \"¿Cuál es el desierto más grande del mundo?\": \"Antártida\",\n",
    "    \"¿Cuál es el país más pequeño del mundo?\": \"Ciudad del Vaticano\",\n",
    "    \"¿Cuál es el lago más profundo del mundo?\": \"Lago Baikal\",\n",
    "    \"¿En qué continente se encuentra el Monte Kilimanjaro?\": \"África\",\n",
    "    \"¿Cuál es la ciudad más poblada del mundo?\": \"Tokio\"\n",
    "}\n"
   ]
  },
  {
   "cell_type": "code",
   "execution_count": 57,
   "metadata": {},
   "outputs": [],
   "source": [
    "import random\n",
    "import time\n",
    "def opciones_multiples():\n",
    "    incorrectas = 0\n",
    "    correctas = 0\n",
    "    lista_preguntas = list(preguntas_opciones.keys())\n",
    "    print('Has elegido la opción de opciones múltiples, comencemos el juego...\\U0001F680')\n",
    "    while True:\n",
    "        pregunta = random.choice(lista_preguntas)\n",
    "        lista_preguntas.remove(pregunta)\n",
    "        opciones = preguntas_opciones[pregunta]  #Esta línea de código está obteniendo las opciones de respuesta para la pregunta actual \n",
    "                                                 #y almacenándolas en la variable opciones\n",
    "        print(pregunta)\n",
    "        time.sleep(2)\n",
    "        for indice, opcion in enumerate(opciones):     #Iterar sobre la lista opciones utilizando la función enumerate para obtener tanto el \n",
    "            print(f\"{indice+1}. {opcion}\")             #índice como el valor de cada opción.\n",
    "            time.sleep(1)\n",
    "        respuesta_usuario = input(\"Elige la opción correcta (1-4):\").strip()\n",
    "        \n",
    "        try:\n",
    "            respuesta_usuario = int(respuesta_usuario)         #Este bloque de código intenta convertir la respuesta del usuario a un número entero y \n",
    "            if respuesta_usuario < 1 or respuesta_usuario > 4:  #valida si está dentro del rango permitido. Si ocurre un error, maneja la excepción y\n",
    "                raise ValueError                                     # muestra un mensaje adecuado al usuario.\n",
    "        except ValueError:\n",
    "            print(\"Respuesta no válida. Por favor, elige un número entre 1 y 4.\")\n",
    "            continue\n",
    "        \n",
    "        respuesta_correcta = respuestas_correctas[pregunta]\n",
    "        \n",
    "        if opciones[respuesta_usuario - 1] == respuesta_correcta:\n",
    "            print('Correcto\\U0001F44F')\n",
    "            correctas += 1\n",
    "            if correctas == 5:\n",
    "                print('¡Has ganado!\\U0001F973')\n",
    "                break\n",
    "        else:\n",
    "            print(f'Fallaste \\U0001F605 la respuesta correcta es {respuesta_correcta}')\n",
    "            incorrectas += 1\n",
    "            if incorrectas == 3:\n",
    "                print('Game over\\U0001F61E')\n",
    "                break\n",
    "        \n",
    "        "
   ]
  },
  {
   "cell_type": "code",
   "execution_count": 31,
   "metadata": {},
   "outputs": [
    {
     "name": "stdout",
     "output_type": "stream",
     "text": [
      "Has elegido la opción de opciones múltiples, comencemos el juego...\n",
      "¿Cuál es el país con la mayor población del mundo?\n",
      "1. Estados Unidos\n",
      "2. India\n",
      "3. China\n",
      "4. Rusia\n",
      "correcto\n",
      "¿Cuál es la capital de Francia?\n",
      "1. Madrid\n",
      "2. París\n",
      "3. Berlín\n",
      "4. Roma\n",
      "Respuesta no válida. Por favor, elige un número entre 1 y 4.\n",
      "¿Cuál es el océano más grande del mundo?\n",
      "1. Océano Atlántico\n",
      "2. Océano Índico\n",
      "3. Océano Pacífico\n",
      "4. Océano Ártico\n",
      "Fallaste 😅 la respuesta correcta es Océano Pacífico\n",
      "¿Qué río es el más largo del mundo?\n",
      "1. Río Amazonas\n",
      "2. Río Nilo\n",
      "3. Río Yangtsé\n",
      "4. Río Misisipi\n",
      "Fallaste 😅 la respuesta correcta es Río Nilo\n",
      "¿Cuál es el lago más profundo del mundo?\n",
      "1. Lago Baikal\n",
      "2. Lago Tanganica\n",
      "3. Lago Superior\n",
      "4. Lago Victoria\n",
      "Fallaste 😅 la respuesta correcta es Lago Baikal\n",
      "Game over\n"
     ]
    }
   ],
   "source": [
    "opciones_multiples()"
   ]
  },
  {
   "cell_type": "markdown",
   "metadata": {},
   "source": [
    "______________________________________________________________"
   ]
  },
  {
   "cell_type": "markdown",
   "metadata": {},
   "source": [
    "# **Inicio del juego**"
   ]
  },
  {
   "cell_type": "code",
   "execution_count": 56,
   "metadata": {},
   "outputs": [],
   "source": [
    "import time\n",
    "def juego_preguntas():\n",
    "    print(\"Bienvenido al juego de preguntas y respuestas de Geografía\\U0001F30E\")\n",
    "    print(\"Elige el tipo de juego:\")\n",
    "    print(\"1. Respuesta única\")\n",
    "    print(\"2. Verdadero/Falso\")\n",
    "    print(\"3. Opciones múltiples\")\n",
    "\n",
    "    opcion = input(\"Introduce el número de la opción deseada: \").strip()\n",
    "\n",
    "    if opcion == \"1\":\n",
    "        respuesta_unica()\n",
    "    elif opcion == \"2\":\n",
    "        verdadero_falso()\n",
    "    elif opcion == \"3\":\n",
    "        opciones_multiples()\n",
    "    else:\n",
    "        print(\"Opción no válida. Por favor, elige una opción válida.\")\n",
    "\n",
    "    time.sleep(2)\n",
    "\n"
   ]
  },
  {
   "cell_type": "code",
   "execution_count": 48,
   "metadata": {},
   "outputs": [
    {
     "name": "stdout",
     "output_type": "stream",
     "text": [
      "Bienvenido al juego de preguntas y respuestas\n",
      "Elige el tipo de juego:\n",
      "1. Respuesta única\n",
      "2. Verdadero/Falso\n",
      "3. Opciones múltiples\n",
      "Has elegido la opción de opciones múltiples, comencemos el juego...\n",
      "¿Cuál es el país con la mayor población del mundo?\n",
      "1. Estados Unidos\n",
      "2. India\n",
      "3. China\n",
      "4. Rusia\n",
      "Correcto👏\n",
      "¿Cuál es el lago más profundo del mundo?\n",
      "1. Lago Baikal\n",
      "2. Lago Tanganica\n",
      "3. Lago Superior\n",
      "4. Lago Victoria\n",
      "Correcto👏\n",
      "¿Cuál es el desierto más grande del mundo?\n",
      "1. Desierto del Sahara\n",
      "2. Desierto de Arabia\n",
      "3. Desierto de Gobi\n",
      "4. Antártida\n",
      "Fallaste 😅 la respuesta correcta es Antártida\n",
      "¿Cuál es la capital de Francia?\n",
      "1. Madrid\n",
      "2. París\n",
      "3. Berlín\n",
      "4. Roma\n",
      "Correcto👏\n",
      "¿Cuál es el océano más grande del mundo?\n",
      "1. Océano Atlántico\n",
      "2. Océano Índico\n",
      "3. Océano Pacífico\n",
      "4. Océano Ártico\n",
      "Correcto👏\n",
      "¿Cuál es el continente más grande del mundo?\n",
      "1. África\n",
      "2. América del Norte\n",
      "3. Asia\n",
      "4. Antártida\n",
      "Correcto👏\n",
      "¡Has ganado!🥳\n"
     ]
    }
   ],
   "source": [
    "juego_preguntas()"
   ]
  }
 ],
 "metadata": {
  "kernelspec": {
   "display_name": "Python 3",
   "language": "python",
   "name": "python3"
  },
  "language_info": {
   "codemirror_mode": {
    "name": "ipython",
    "version": 3
   },
   "file_extension": ".py",
   "mimetype": "text/x-python",
   "name": "python",
   "nbconvert_exporter": "python",
   "pygments_lexer": "ipython3",
   "version": "3.13.2"
  }
 },
 "nbformat": 4,
 "nbformat_minor": 2
}
